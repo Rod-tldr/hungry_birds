{
  "nbformat": 4,
  "nbformat_minor": 0,
  "metadata": {
    "colab": {
      "provenance": [],
      "authorship_tag": "ABX9TyP80Q7ldknHVoPVEA50G3d4",
      "include_colab_link": true
    },
    "kernelspec": {
      "name": "python3",
      "display_name": "Python 3"
    },
    "language_info": {
      "name": "python"
    },
    "accelerator": "GPU",
    "gpuClass": "standard"
  },
  "cells": [
    {
      "cell_type": "markdown",
      "metadata": {
        "id": "view-in-github",
        "colab_type": "text"
      },
      "source": [
        "<a href=\"https://colab.research.google.com/github/Tfcosendey/hungry_birds/blob/notebook/Full_model.ipynb\" target=\"_parent\"><img src=\"https://colab.research.google.com/assets/colab-badge.svg\" alt=\"Open In Colab\"/></a>"
      ]
    },
    {
      "cell_type": "code",
      "execution_count": 216,
      "metadata": {
        "colab": {
          "base_uri": "https://localhost:8080/"
        },
        "id": "ihUo5eB0rAhX",
        "outputId": "7330bcec-6b27-4cb9-8eb7-3510cf6ab891"
      },
      "outputs": [
        {
          "output_type": "stream",
          "name": "stdout",
          "text": [
            "Drive already mounted at /content/drive; to attempt to forcibly remount, call drive.mount(\"/content/drive\", force_remount=True).\n"
          ]
        }
      ],
      "source": [
        "from google.colab import drive\n",
        "drive.mount('/content/drive')"
      ]
    },
    {
      "cell_type": "code",
      "source": [
        "!pip install tensorflow_io"
      ],
      "metadata": {
        "colab": {
          "base_uri": "https://localhost:8080/"
        },
        "id": "4X1V7bbmvfBJ",
        "outputId": "71d08e8a-364f-49a4-ff78-652d3765a63b"
      },
      "execution_count": 217,
      "outputs": [
        {
          "output_type": "stream",
          "name": "stdout",
          "text": [
            "Looking in indexes: https://pypi.org/simple, https://us-python.pkg.dev/colab-wheels/public/simple/\n",
            "Requirement already satisfied: tensorflow_io in /usr/local/lib/python3.9/dist-packages (0.31.0)\n",
            "Requirement already satisfied: tensorflow-io-gcs-filesystem==0.31.0 in /usr/local/lib/python3.9/dist-packages (from tensorflow_io) (0.31.0)\n"
          ]
        }
      ]
    },
    {
      "cell_type": "code",
      "source": [
        "import glob as glob\n",
        "import os\n",
        "import io\n",
        "from sklearn.model_selection import train_test_split\n",
        "\n",
        "from IPython import display\n",
        "import matplotlib.pyplot as plt\n",
        "import numpy as np\n",
        "import pandas as pd\n",
        "\n",
        "import tensorflow as tf\n",
        "import tensorflow_hub as hub\n",
        "import tensorflow_io as tfio"
      ],
      "metadata": {
        "id": "twLTaQGorV2K"
      },
      "execution_count": 218,
      "outputs": []
    },
    {
      "cell_type": "code",
      "source": [
        "directory = '/content/drive/MyDrive/Colab Notebooks/bird_songs/data/songs/'\n",
        "files = glob.glob(directory + '/**/*', recursive=False)"
      ],
      "metadata": {
        "id": "UsuOfN4Qr5GF"
      },
      "execution_count": 219,
      "outputs": []
    },
    {
      "cell_type": "code",
      "source": [
        "df = pd.DataFrame(files)"
      ],
      "metadata": {
        "id": "AVSQ6ofrsY6g"
      },
      "execution_count": 295,
      "outputs": []
    },
    {
      "cell_type": "code",
      "source": [
        "df['gen_sp'] = df[0].apply(lambda x: x.split('/')[-2])\n",
        "df['id'] = df[0].apply(lambda x: x.split('/')[-1][:-4])\n",
        "df = df.rename(columns={df.columns[0]: 'file'})\n",
        "df = df.sample(frac=1).reset_index(drop=True)\n",
        "df.head()"
      ],
      "metadata": {
        "colab": {
          "base_uri": "https://localhost:8080/",
          "height": 206
        },
        "id": "eqGJ_up2tiXp",
        "outputId": "34185fd1-90bc-470a-f3c6-1f3e453c1391"
      },
      "execution_count": 296,
      "outputs": [
        {
          "output_type": "execute_result",
          "data": {
            "text/plain": [
              "                                                file  \\\n",
              "0  /content/drive/MyDrive/Colab Notebooks/bird_so...   \n",
              "1  /content/drive/MyDrive/Colab Notebooks/bird_so...   \n",
              "2  /content/drive/MyDrive/Colab Notebooks/bird_so...   \n",
              "3  /content/drive/MyDrive/Colab Notebooks/bird_so...   \n",
              "4  /content/drive/MyDrive/Colab Notebooks/bird_so...   \n",
              "\n",
              "                           gen_sp      id  \n",
              "0  Hemitriccus margaritaceiventer  708050  \n",
              "1                    Piaya cayana  587902  \n",
              "2            Myiarchus tyrannulus  156976  \n",
              "3             Conopophaga lineata  297865  \n",
              "4              Turdus rufiventris  289112  "
            ],
            "text/html": [
              "\n",
              "  <div id=\"df-af8da8b5-e96a-40ad-8d08-e174412bbf45\">\n",
              "    <div class=\"colab-df-container\">\n",
              "      <div>\n",
              "<style scoped>\n",
              "    .dataframe tbody tr th:only-of-type {\n",
              "        vertical-align: middle;\n",
              "    }\n",
              "\n",
              "    .dataframe tbody tr th {\n",
              "        vertical-align: top;\n",
              "    }\n",
              "\n",
              "    .dataframe thead th {\n",
              "        text-align: right;\n",
              "    }\n",
              "</style>\n",
              "<table border=\"1\" class=\"dataframe\">\n",
              "  <thead>\n",
              "    <tr style=\"text-align: right;\">\n",
              "      <th></th>\n",
              "      <th>file</th>\n",
              "      <th>gen_sp</th>\n",
              "      <th>id</th>\n",
              "    </tr>\n",
              "  </thead>\n",
              "  <tbody>\n",
              "    <tr>\n",
              "      <th>0</th>\n",
              "      <td>/content/drive/MyDrive/Colab Notebooks/bird_so...</td>\n",
              "      <td>Hemitriccus margaritaceiventer</td>\n",
              "      <td>708050</td>\n",
              "    </tr>\n",
              "    <tr>\n",
              "      <th>1</th>\n",
              "      <td>/content/drive/MyDrive/Colab Notebooks/bird_so...</td>\n",
              "      <td>Piaya cayana</td>\n",
              "      <td>587902</td>\n",
              "    </tr>\n",
              "    <tr>\n",
              "      <th>2</th>\n",
              "      <td>/content/drive/MyDrive/Colab Notebooks/bird_so...</td>\n",
              "      <td>Myiarchus tyrannulus</td>\n",
              "      <td>156976</td>\n",
              "    </tr>\n",
              "    <tr>\n",
              "      <th>3</th>\n",
              "      <td>/content/drive/MyDrive/Colab Notebooks/bird_so...</td>\n",
              "      <td>Conopophaga lineata</td>\n",
              "      <td>297865</td>\n",
              "    </tr>\n",
              "    <tr>\n",
              "      <th>4</th>\n",
              "      <td>/content/drive/MyDrive/Colab Notebooks/bird_so...</td>\n",
              "      <td>Turdus rufiventris</td>\n",
              "      <td>289112</td>\n",
              "    </tr>\n",
              "  </tbody>\n",
              "</table>\n",
              "</div>\n",
              "      <button class=\"colab-df-convert\" onclick=\"convertToInteractive('df-af8da8b5-e96a-40ad-8d08-e174412bbf45')\"\n",
              "              title=\"Convert this dataframe to an interactive table.\"\n",
              "              style=\"display:none;\">\n",
              "        \n",
              "  <svg xmlns=\"http://www.w3.org/2000/svg\" height=\"24px\"viewBox=\"0 0 24 24\"\n",
              "       width=\"24px\">\n",
              "    <path d=\"M0 0h24v24H0V0z\" fill=\"none\"/>\n",
              "    <path d=\"M18.56 5.44l.94 2.06.94-2.06 2.06-.94-2.06-.94-.94-2.06-.94 2.06-2.06.94zm-11 1L8.5 8.5l.94-2.06 2.06-.94-2.06-.94L8.5 2.5l-.94 2.06-2.06.94zm10 10l.94 2.06.94-2.06 2.06-.94-2.06-.94-.94-2.06-.94 2.06-2.06.94z\"/><path d=\"M17.41 7.96l-1.37-1.37c-.4-.4-.92-.59-1.43-.59-.52 0-1.04.2-1.43.59L10.3 9.45l-7.72 7.72c-.78.78-.78 2.05 0 2.83L4 21.41c.39.39.9.59 1.41.59.51 0 1.02-.2 1.41-.59l7.78-7.78 2.81-2.81c.8-.78.8-2.07 0-2.86zM5.41 20L4 18.59l7.72-7.72 1.47 1.35L5.41 20z\"/>\n",
              "  </svg>\n",
              "      </button>\n",
              "      \n",
              "  <style>\n",
              "    .colab-df-container {\n",
              "      display:flex;\n",
              "      flex-wrap:wrap;\n",
              "      gap: 12px;\n",
              "    }\n",
              "\n",
              "    .colab-df-convert {\n",
              "      background-color: #E8F0FE;\n",
              "      border: none;\n",
              "      border-radius: 50%;\n",
              "      cursor: pointer;\n",
              "      display: none;\n",
              "      fill: #1967D2;\n",
              "      height: 32px;\n",
              "      padding: 0 0 0 0;\n",
              "      width: 32px;\n",
              "    }\n",
              "\n",
              "    .colab-df-convert:hover {\n",
              "      background-color: #E2EBFA;\n",
              "      box-shadow: 0px 1px 2px rgba(60, 64, 67, 0.3), 0px 1px 3px 1px rgba(60, 64, 67, 0.15);\n",
              "      fill: #174EA6;\n",
              "    }\n",
              "\n",
              "    [theme=dark] .colab-df-convert {\n",
              "      background-color: #3B4455;\n",
              "      fill: #D2E3FC;\n",
              "    }\n",
              "\n",
              "    [theme=dark] .colab-df-convert:hover {\n",
              "      background-color: #434B5C;\n",
              "      box-shadow: 0px 1px 3px 1px rgba(0, 0, 0, 0.15);\n",
              "      filter: drop-shadow(0px 1px 2px rgba(0, 0, 0, 0.3));\n",
              "      fill: #FFFFFF;\n",
              "    }\n",
              "  </style>\n",
              "\n",
              "      <script>\n",
              "        const buttonEl =\n",
              "          document.querySelector('#df-af8da8b5-e96a-40ad-8d08-e174412bbf45 button.colab-df-convert');\n",
              "        buttonEl.style.display =\n",
              "          google.colab.kernel.accessAllowed ? 'block' : 'none';\n",
              "\n",
              "        async function convertToInteractive(key) {\n",
              "          const element = document.querySelector('#df-af8da8b5-e96a-40ad-8d08-e174412bbf45');\n",
              "          const dataTable =\n",
              "            await google.colab.kernel.invokeFunction('convertToInteractive',\n",
              "                                                     [key], {});\n",
              "          if (!dataTable) return;\n",
              "\n",
              "          const docLinkHtml = 'Like what you see? Visit the ' +\n",
              "            '<a target=\"_blank\" href=https://colab.research.google.com/notebooks/data_table.ipynb>data table notebook</a>'\n",
              "            + ' to learn more about interactive tables.';\n",
              "          element.innerHTML = '';\n",
              "          dataTable['output_type'] = 'display_data';\n",
              "          await google.colab.output.renderOutput(dataTable, element);\n",
              "          const docLink = document.createElement('div');\n",
              "          docLink.innerHTML = docLinkHtml;\n",
              "          element.appendChild(docLink);\n",
              "        }\n",
              "      </script>\n",
              "    </div>\n",
              "  </div>\n",
              "  "
            ]
          },
          "metadata": {},
          "execution_count": 296
        }
      ]
    },
    {
      "cell_type": "code",
      "source": [
        "df_filtered = df[df['gen_sp'].isin(df['gen_sp'].unique()[:20])]\n",
        "print(len(df_filtered))\n",
        "train_df, test_df = train_test_split(df_filtered, test_size=0.1)\n",
        "train_df, val_df = train_test_split(train_df, test_size=0.1)"
      ],
      "metadata": {
        "id": "MnkbY-fYEhon",
        "colab": {
          "base_uri": "https://localhost:8080/"
        },
        "outputId": "be7c86ea-521b-47a8-f8f2-260af43d566f"
      },
      "execution_count": 222,
      "outputs": [
        {
          "output_type": "stream",
          "name": "stdout",
          "text": [
            "2781\n"
          ]
        }
      ]
    },
    {
      "cell_type": "code",
      "source": [
        "df_filtered['gen_sp'].unique()"
      ],
      "metadata": {
        "colab": {
          "base_uri": "https://localhost:8080/"
        },
        "id": "s1KgDs9KHaeG",
        "outputId": "c7ab0589-bcc3-482f-b26e-5c16a9bec6bb"
      },
      "execution_count": 223,
      "outputs": [
        {
          "output_type": "execute_result",
          "data": {
            "text/plain": [
              "array(['Cichlocolaptes leucophrus', 'Tolmomyias sulphurescens',\n",
              "       'Myrmoderus squamosus', 'Saltator fuliginosus',\n",
              "       'Syndactyla rufosuperciliata', 'Synallaxis frontalis',\n",
              "       'Rhopias gularis', 'Drymophila ferruginea', 'Turdus leucomelas',\n",
              "       'Trogon rufus', 'Tyrannus melancholicus', 'Patagioenas plumbea',\n",
              "       'Pyriglena leucoptera', 'Merulaxis ater', 'Vireo chivi',\n",
              "       'Drymophila squamata', 'Megascops choliba', 'Turdus flavipes',\n",
              "       'Todirostrum poliocephalum', 'Saltator atricollis'], dtype=object)"
            ]
          },
          "metadata": {},
          "execution_count": 223
        }
      ]
    },
    {
      "cell_type": "code",
      "source": [
        "yamnet_model = hub.load('https://tfhub.dev/google/yamnet/1')"
      ],
      "metadata": {
        "id": "GphlLwFUBk0o"
      },
      "execution_count": 224,
      "outputs": []
    },
    {
      "cell_type": "code",
      "source": [
        "def load_wav_16k_mono(filename):\n",
        "    \"\"\" Load a WAV file, convert it to a float tensor, resample to 16 kHz single-channel audio. \"\"\"\n",
        "    file_contents = tf.io.read_file(filename)\n",
        "    wav, sample_rate = tf.audio.decode_wav(\n",
        "          file_contents,\n",
        "          desired_channels=1)\n",
        "    wav = tf.squeeze(wav, axis=-1)\n",
        "    sample_rate = tf.cast(sample_rate, dtype=tf.int64)\n",
        "    wav = tfio.audio.resample(wav, rate_in=sample_rate, rate_out=16000)\n",
        "    return wav"
      ],
      "metadata": {
        "id": "JhYBkbmquTm5"
      },
      "execution_count": 225,
      "outputs": []
    },
    {
      "cell_type": "code",
      "source": [
        "def load_wav_for_map(filename, label):\n",
        "  return load_wav_16k_mono(filename), label"
      ],
      "metadata": {
        "id": "_eusZy3JmoA8"
      },
      "execution_count": 227,
      "outputs": []
    },
    {
      "cell_type": "code",
      "source": [
        "def extract_embedding(wav_data, label):\n",
        "  ''' run YAMNet to extract embedding from the wav data '''\n",
        "  scores, embeddings, spectrogram = yamnet_model(wav_data)\n",
        "  scores = tf.reshape(scores[:,106], [-1, 1])\n",
        "  embeddings =  scores * embeddings\n",
        "#  top_scores, top_indices = tf.math.top_k(scores[:,106], k=3)\n",
        "#  top_embeddings = tf.gather(embeddings, top_indices)\n",
        "  num_embeddings = tf.shape(embeddings)[0]\n",
        "  return embeddings, tf.repeat(label, num_embeddings)\n"
      ],
      "metadata": {
        "id": "H7ZFoghynIzz"
      },
      "execution_count": 229,
      "outputs": []
    },
    {
      "cell_type": "code",
      "source": [
        "from sklearn.preprocessing import LabelEncoder\n",
        "le = LabelEncoder()\n",
        "# trocar p OHE\n",
        "train_filenames = train_df['file']\n",
        "train_targets = le.fit_transform(train_df['gen_sp'])\n",
        "train_ds = tf.data.Dataset.from_tensor_slices((train_filenames, train_targets))\n",
        "\n",
        "val_filenames = val_df['file']\n",
        "val_targets = le.transform(val_df['gen_sp'])\n",
        "val_ds = tf.data.Dataset.from_tensor_slices((val_filenames, val_targets))\n",
        "\n",
        "test_filenames = test_df['file']\n",
        "test_targets = le.transform(test_df['gen_sp'])\n",
        "test_ds = tf.data.Dataset.from_tensor_slices((test_filenames, test_targets))"
      ],
      "metadata": {
        "id": "CEV-EJ75l0Nx"
      },
      "execution_count": 226,
      "outputs": []
    },
    {
      "cell_type": "code",
      "source": [
        "train_ds = train_ds.map(load_wav_for_map)\n",
        "val_ds = val_ds.map(load_wav_for_map)\n",
        "test_ds = test_ds.map(load_wav_for_map)"
      ],
      "metadata": {
        "colab": {
          "base_uri": "https://localhost:8080/"
        },
        "id": "VKrO6Va-nB1A",
        "outputId": "de03277a-28f2-4fa8-e92a-b698df4bf28a"
      },
      "execution_count": 228,
      "outputs": [
        {
          "output_type": "stream",
          "name": "stderr",
          "text": [
            "WARNING:tensorflow:Using a while_loop for converting IO>AudioResample cause there is no registered converter for this op.\n",
            "WARNING:tensorflow:Using a while_loop for converting IO>AudioResample cause there is no registered converter for this op.\n",
            "WARNING:tensorflow:Using a while_loop for converting IO>AudioResample cause there is no registered converter for this op.\n"
          ]
        }
      ]
    },
    {
      "cell_type": "code",
      "source": [
        "train_ds = train_ds.map(extract_embedding).unbatch()\n",
        "val_ds = val_ds.map(extract_embedding).unbatch()\n",
        "test_ds = test_ds.map(extract_embedding).unbatch()"
      ],
      "metadata": {
        "id": "RSxBYrEdnSR-"
      },
      "execution_count": 230,
      "outputs": []
    },
    {
      "cell_type": "code",
      "source": [
        "train_ds = train_ds.cache().shuffle(1000).batch(32).prefetch(tf.data.AUTOTUNE)\n",
        "val_ds = val_ds.cache().shuffle(1000).batch(32).prefetch(tf.data.AUTOTUNE)\n",
        "test_ds = test_ds.cache().shuffle(1000).batch(32).prefetch(tf.data.AUTOTUNE)"
      ],
      "metadata": {
        "id": "6pS15kWvp1z2"
      },
      "execution_count": 231,
      "outputs": []
    },
    {
      "cell_type": "code",
      "source": [
        "my_model = tf.keras.Sequential([\n",
        "    tf.keras.layers.Input(shape=(1024), dtype=tf.float32,\n",
        "                          name='input_embedding'),\n",
        "    tf.keras.layers.Dense(1024, activation='relu'),\n",
        "    tf.keras.layers.Dropout(0.8),\n",
        "    tf.keras.layers.Dense(512, activation='relu'),\n",
        "    tf.keras.layers.Dropout(0.7),\n",
        "    tf.keras.layers.Dense(256, activation='relu'),\n",
        "    tf.keras.layers.Dropout(0.6),\n",
        "    tf.keras.layers.Dense(128, activation='relu'),\n",
        "    tf.keras.layers.Dropout(0.4),\n",
        "    tf.keras.layers.Dense(20, activation = 'softmax')\n",
        "], name='my_model')\n",
        "\n",
        "my_model.summary()"
      ],
      "metadata": {
        "colab": {
          "base_uri": "https://localhost:8080/"
        },
        "id": "_BRTAKHGnhZZ",
        "outputId": "4c022ecc-5521-48a1-8b21-1799c27db8be"
      },
      "execution_count": 336,
      "outputs": [
        {
          "output_type": "stream",
          "name": "stdout",
          "text": [
            "Model: \"my_model\"\n",
            "_________________________________________________________________\n",
            " Layer (type)                Output Shape              Param #   \n",
            "=================================================================\n",
            " dense_13 (Dense)            (None, 1024)              1049600   \n",
            "                                                                 \n",
            " dropout (Dropout)           (None, 1024)              0         \n",
            "                                                                 \n",
            " dense_14 (Dense)            (None, 512)               524800    \n",
            "                                                                 \n",
            " dropout_1 (Dropout)         (None, 512)               0         \n",
            "                                                                 \n",
            " dense_15 (Dense)            (None, 256)               131328    \n",
            "                                                                 \n",
            " dropout_2 (Dropout)         (None, 256)               0         \n",
            "                                                                 \n",
            " dense_16 (Dense)            (None, 128)               32896     \n",
            "                                                                 \n",
            " dropout_3 (Dropout)         (None, 128)               0         \n",
            "                                                                 \n",
            " dense_17 (Dense)            (None, 20)                2580      \n",
            "                                                                 \n",
            "=================================================================\n",
            "Total params: 1,741,204\n",
            "Trainable params: 1,741,204\n",
            "Non-trainable params: 0\n",
            "_________________________________________________________________\n"
          ]
        }
      ]
    },
    {
      "cell_type": "code",
      "source": [
        "top3_acc = tf.keras.metrics.TopKCategoricalAccuracy(k=3)"
      ],
      "metadata": {
        "id": "2wa-1VCPfzaZ"
      },
      "execution_count": 233,
      "outputs": []
    },
    {
      "cell_type": "code",
      "source": [
        "my_model.compile(loss=tf.keras.losses.SparseCategoricalCrossentropy(from_logits=False),\n",
        "                 optimizer=\"adam\",\n",
        "                 metrics=[top3_acc, 'accuracy'])\n",
        "\n",
        "callback = tf.keras.callbacks.EarlyStopping(monitor='val_top_k_categorical_accuracy',\n",
        "                                            patience=3,\n",
        "                                            restore_best_weights=True)\n",
        "\n",
        "history = my_model.fit(train_ds,\n",
        "                       epochs=20,\n",
        "                       validation_data=val_ds,\n",
        "                       callbacks=callback)"
      ],
      "metadata": {
        "id": "kO3JGgMrf5N4"
      },
      "execution_count": null,
      "outputs": []
    },
    {
      "cell_type": "code",
      "source": [
        "class ReduceMeanLayer(tf.keras.layers.Layer):\n",
        "  def __init__(self, axis=0, **kwargs):\n",
        "    super(ReduceMeanLayer, self).__init__(**kwargs)\n",
        "    self.axis = axis\n",
        "\n",
        "  def call(self, input):\n",
        "    return tf.math.reduce_mean(input, axis=self.axis)"
      ],
      "metadata": {
        "id": "edqD5_0ds2bm"
      },
      "execution_count": 235,
      "outputs": []
    },
    {
      "cell_type": "code",
      "source": [
        "saved_model_path = '/content/drive/MyDrive/Colab Notebooks/bird_songs/models/yamnet_bird_1'\n",
        "\n",
        "input_segment = tf.keras.layers.Input(shape=(), dtype=tf.float32, name='audio')\n",
        "embedding_extraction_layer = hub.KerasLayer('https://tfhub.dev/google/yamnet/1',\n",
        "                                            trainable=False, name='yamnet')\n",
        "_, embeddings_output, _ = embedding_extraction_layer(input_segment)\n",
        "serving_outputs = my_model(embeddings_output)\n",
        "serving_outputs = ReduceMeanLayer(axis=0, name='classifier')(serving_outputs)\n",
        "serving_model = tf.keras.Model(input_segment, serving_outputs)\n",
        "serving_model.save(saved_model_path, include_optimizer=False)"
      ],
      "metadata": {
        "colab": {
          "base_uri": "https://localhost:8080/"
        },
        "id": "impbI8H84Qzj",
        "outputId": "554473d3-9c27-4478-9eac-7d30ba4ea90b"
      },
      "execution_count": 236,
      "outputs": [
        {
          "output_type": "stream",
          "name": "stderr",
          "text": [
            "WARNING:tensorflow:Please fix your imports. Module tensorflow.python.training.tracking.data_structures has been moved to tensorflow.python.trackable.data_structures. The old module will be deleted in version 2.11.\n",
            "WARNING:tensorflow:Compiled the loaded model, but the compiled metrics have yet to be built. `model.compile_metrics` will be empty until you train or evaluate the model.\n",
            "WARNING:absl:Found untraced functions such as _update_step_xla while saving (showing 1 of 1). These functions will not be directly callable after loading.\n"
          ]
        }
      ]
    },
    {
      "cell_type": "code",
      "source": [
        "my_model.evaluate(test_ds)"
      ],
      "metadata": {
        "colab": {
          "base_uri": "https://localhost:8080/"
        },
        "id": "rfrDK05k9HHR",
        "outputId": "98d3e3df-d9ac-46a0-8f5d-4afc2fd5b6cb"
      },
      "execution_count": 237,
      "outputs": [
        {
          "output_type": "stream",
          "name": "stdout",
          "text": [
            "1441/1441 [==============================] - 389s 262ms/step - loss: 3.0254 - top_k_categorical_accuracy: 0.0251 - accuracy: 0.1813\n"
          ]
        },
        {
          "output_type": "execute_result",
          "data": {
            "text/plain": [
              "[3.0254178047180176, 0.02511276863515377, 0.1812543421983719]"
            ]
          },
          "metadata": {},
          "execution_count": 237
        }
      ]
    },
    {
      "cell_type": "code",
      "source": [
        "def predict(filename):\n",
        "  wav = load_wav_16k_mono(filename)\n",
        "  scores, embeddings, spectrogram = yamnet_model(wav)\n",
        "  scores = scores[:,106]\n",
        "  scores = tf.reshape(scores, [-1, 1])\n",
        "  final_scores = scores * my_model(embeddings)\n",
        "  final_scores = tf.reduce_sum(final_scores, axis=0)\n",
        "  row_sum = tf.reduce_sum(final_scores)\n",
        "  final_scores = tf.divide(final_scores, row_sum)\n",
        "  final_score = pd.DataFrame(final_scores, columns = ['Probability'])\n",
        "  final_score.index = le.inverse_transform(final_score.index)\n",
        "  final_score = final_score.sort_values(by = 'Probability', ascending = False).applymap(lambda x: \"{:.2%}\".format(x))\n",
        "  return final_score#.head(3).index"
      ],
      "metadata": {
        "id": "eoQifg3G-0fV"
      },
      "execution_count": 281,
      "outputs": []
    },
    {
      "cell_type": "code",
      "source": [
        "sample = test_df.sample(1)\n",
        "print(sample['gen_sp'])\n",
        "predict(sample['file'].values[0])"
      ],
      "metadata": {
        "colab": {
          "base_uri": "https://localhost:8080/",
          "height": 711
        },
        "id": "0YC-2CbhSde4",
        "outputId": "e5be33bb-da6e-42e3-9042-ab2bb1dcd8e0"
      },
      "execution_count": 333,
      "outputs": [
        {
          "output_type": "stream",
          "name": "stdout",
          "text": [
            "11670    Patagioenas plumbea\n",
            "Name: gen_sp, dtype: object\n"
          ]
        },
        {
          "output_type": "execute_result",
          "data": {
            "text/plain": [
              "                            Probability\n",
              "Patagioenas plumbea              70.65%\n",
              "Turdus leucomelas                11.03%\n",
              "Tolmomyias sulphurescens          8.84%\n",
              "Synallaxis frontalis              3.62%\n",
              "Drymophila ferruginea             1.63%\n",
              "Turdus flavipes                   1.43%\n",
              "Drymophila squamata               1.14%\n",
              "Rhopias gularis                   0.86%\n",
              "Megascops choliba                 0.27%\n",
              "Pyriglena leucoptera              0.24%\n",
              "Merulaxis ater                    0.15%\n",
              "Tyrannus melancholicus            0.05%\n",
              "Vireo chivi                       0.04%\n",
              "Myrmoderus squamosus              0.02%\n",
              "Syndactyla rufosuperciliata       0.02%\n",
              "Saltator atricollis               0.01%\n",
              "Todirostrum poliocephalum         0.00%\n",
              "Trogon rufus                      0.00%\n",
              "Saltator fuliginosus              0.00%\n",
              "Cichlocolaptes leucophrus         0.00%"
            ],
            "text/html": [
              "\n",
              "  <div id=\"df-6424c35e-25db-4795-a486-a42dcdb7c5b1\">\n",
              "    <div class=\"colab-df-container\">\n",
              "      <div>\n",
              "<style scoped>\n",
              "    .dataframe tbody tr th:only-of-type {\n",
              "        vertical-align: middle;\n",
              "    }\n",
              "\n",
              "    .dataframe tbody tr th {\n",
              "        vertical-align: top;\n",
              "    }\n",
              "\n",
              "    .dataframe thead th {\n",
              "        text-align: right;\n",
              "    }\n",
              "</style>\n",
              "<table border=\"1\" class=\"dataframe\">\n",
              "  <thead>\n",
              "    <tr style=\"text-align: right;\">\n",
              "      <th></th>\n",
              "      <th>Probability</th>\n",
              "    </tr>\n",
              "  </thead>\n",
              "  <tbody>\n",
              "    <tr>\n",
              "      <th>Patagioenas plumbea</th>\n",
              "      <td>70.65%</td>\n",
              "    </tr>\n",
              "    <tr>\n",
              "      <th>Turdus leucomelas</th>\n",
              "      <td>11.03%</td>\n",
              "    </tr>\n",
              "    <tr>\n",
              "      <th>Tolmomyias sulphurescens</th>\n",
              "      <td>8.84%</td>\n",
              "    </tr>\n",
              "    <tr>\n",
              "      <th>Synallaxis frontalis</th>\n",
              "      <td>3.62%</td>\n",
              "    </tr>\n",
              "    <tr>\n",
              "      <th>Drymophila ferruginea</th>\n",
              "      <td>1.63%</td>\n",
              "    </tr>\n",
              "    <tr>\n",
              "      <th>Turdus flavipes</th>\n",
              "      <td>1.43%</td>\n",
              "    </tr>\n",
              "    <tr>\n",
              "      <th>Drymophila squamata</th>\n",
              "      <td>1.14%</td>\n",
              "    </tr>\n",
              "    <tr>\n",
              "      <th>Rhopias gularis</th>\n",
              "      <td>0.86%</td>\n",
              "    </tr>\n",
              "    <tr>\n",
              "      <th>Megascops choliba</th>\n",
              "      <td>0.27%</td>\n",
              "    </tr>\n",
              "    <tr>\n",
              "      <th>Pyriglena leucoptera</th>\n",
              "      <td>0.24%</td>\n",
              "    </tr>\n",
              "    <tr>\n",
              "      <th>Merulaxis ater</th>\n",
              "      <td>0.15%</td>\n",
              "    </tr>\n",
              "    <tr>\n",
              "      <th>Tyrannus melancholicus</th>\n",
              "      <td>0.05%</td>\n",
              "    </tr>\n",
              "    <tr>\n",
              "      <th>Vireo chivi</th>\n",
              "      <td>0.04%</td>\n",
              "    </tr>\n",
              "    <tr>\n",
              "      <th>Myrmoderus squamosus</th>\n",
              "      <td>0.02%</td>\n",
              "    </tr>\n",
              "    <tr>\n",
              "      <th>Syndactyla rufosuperciliata</th>\n",
              "      <td>0.02%</td>\n",
              "    </tr>\n",
              "    <tr>\n",
              "      <th>Saltator atricollis</th>\n",
              "      <td>0.01%</td>\n",
              "    </tr>\n",
              "    <tr>\n",
              "      <th>Todirostrum poliocephalum</th>\n",
              "      <td>0.00%</td>\n",
              "    </tr>\n",
              "    <tr>\n",
              "      <th>Trogon rufus</th>\n",
              "      <td>0.00%</td>\n",
              "    </tr>\n",
              "    <tr>\n",
              "      <th>Saltator fuliginosus</th>\n",
              "      <td>0.00%</td>\n",
              "    </tr>\n",
              "    <tr>\n",
              "      <th>Cichlocolaptes leucophrus</th>\n",
              "      <td>0.00%</td>\n",
              "    </tr>\n",
              "  </tbody>\n",
              "</table>\n",
              "</div>\n",
              "      <button class=\"colab-df-convert\" onclick=\"convertToInteractive('df-6424c35e-25db-4795-a486-a42dcdb7c5b1')\"\n",
              "              title=\"Convert this dataframe to an interactive table.\"\n",
              "              style=\"display:none;\">\n",
              "        \n",
              "  <svg xmlns=\"http://www.w3.org/2000/svg\" height=\"24px\"viewBox=\"0 0 24 24\"\n",
              "       width=\"24px\">\n",
              "    <path d=\"M0 0h24v24H0V0z\" fill=\"none\"/>\n",
              "    <path d=\"M18.56 5.44l.94 2.06.94-2.06 2.06-.94-2.06-.94-.94-2.06-.94 2.06-2.06.94zm-11 1L8.5 8.5l.94-2.06 2.06-.94-2.06-.94L8.5 2.5l-.94 2.06-2.06.94zm10 10l.94 2.06.94-2.06 2.06-.94-2.06-.94-.94-2.06-.94 2.06-2.06.94z\"/><path d=\"M17.41 7.96l-1.37-1.37c-.4-.4-.92-.59-1.43-.59-.52 0-1.04.2-1.43.59L10.3 9.45l-7.72 7.72c-.78.78-.78 2.05 0 2.83L4 21.41c.39.39.9.59 1.41.59.51 0 1.02-.2 1.41-.59l7.78-7.78 2.81-2.81c.8-.78.8-2.07 0-2.86zM5.41 20L4 18.59l7.72-7.72 1.47 1.35L5.41 20z\"/>\n",
              "  </svg>\n",
              "      </button>\n",
              "      \n",
              "  <style>\n",
              "    .colab-df-container {\n",
              "      display:flex;\n",
              "      flex-wrap:wrap;\n",
              "      gap: 12px;\n",
              "    }\n",
              "\n",
              "    .colab-df-convert {\n",
              "      background-color: #E8F0FE;\n",
              "      border: none;\n",
              "      border-radius: 50%;\n",
              "      cursor: pointer;\n",
              "      display: none;\n",
              "      fill: #1967D2;\n",
              "      height: 32px;\n",
              "      padding: 0 0 0 0;\n",
              "      width: 32px;\n",
              "    }\n",
              "\n",
              "    .colab-df-convert:hover {\n",
              "      background-color: #E2EBFA;\n",
              "      box-shadow: 0px 1px 2px rgba(60, 64, 67, 0.3), 0px 1px 3px 1px rgba(60, 64, 67, 0.15);\n",
              "      fill: #174EA6;\n",
              "    }\n",
              "\n",
              "    [theme=dark] .colab-df-convert {\n",
              "      background-color: #3B4455;\n",
              "      fill: #D2E3FC;\n",
              "    }\n",
              "\n",
              "    [theme=dark] .colab-df-convert:hover {\n",
              "      background-color: #434B5C;\n",
              "      box-shadow: 0px 1px 3px 1px rgba(0, 0, 0, 0.15);\n",
              "      filter: drop-shadow(0px 1px 2px rgba(0, 0, 0, 0.3));\n",
              "      fill: #FFFFFF;\n",
              "    }\n",
              "  </style>\n",
              "\n",
              "      <script>\n",
              "        const buttonEl =\n",
              "          document.querySelector('#df-6424c35e-25db-4795-a486-a42dcdb7c5b1 button.colab-df-convert');\n",
              "        buttonEl.style.display =\n",
              "          google.colab.kernel.accessAllowed ? 'block' : 'none';\n",
              "\n",
              "        async function convertToInteractive(key) {\n",
              "          const element = document.querySelector('#df-6424c35e-25db-4795-a486-a42dcdb7c5b1');\n",
              "          const dataTable =\n",
              "            await google.colab.kernel.invokeFunction('convertToInteractive',\n",
              "                                                     [key], {});\n",
              "          if (!dataTable) return;\n",
              "\n",
              "          const docLinkHtml = 'Like what you see? Visit the ' +\n",
              "            '<a target=\"_blank\" href=https://colab.research.google.com/notebooks/data_table.ipynb>data table notebook</a>'\n",
              "            + ' to learn more about interactive tables.';\n",
              "          element.innerHTML = '';\n",
              "          dataTable['output_type'] = 'display_data';\n",
              "          await google.colab.output.renderOutput(dataTable, element);\n",
              "          const docLink = document.createElement('div');\n",
              "          docLink.innerHTML = docLinkHtml;\n",
              "          element.appendChild(docLink);\n",
              "        }\n",
              "      </script>\n",
              "    </div>\n",
              "  </div>\n",
              "  "
            ]
          },
          "metadata": {},
          "execution_count": 333
        }
      ]
    },
    {
      "cell_type": "code",
      "source": [
        "test_df['pred'] = test_df['file'].apply(predict)"
      ],
      "metadata": {
        "id": "_irYIUVX_IC7"
      },
      "execution_count": 278,
      "outputs": []
    },
    {
      "cell_type": "code",
      "source": [
        "test_df['acc'] = test_df.apply(lambda row: 1 if row['gen_sp'] in row['pred'] else 0, axis=1)"
      ],
      "metadata": {
        "id": "7XE30h_5GwQg"
      },
      "execution_count": 279,
      "outputs": []
    },
    {
      "cell_type": "code",
      "source": [
        "test_df['acc'].mean()"
      ],
      "metadata": {
        "colab": {
          "base_uri": "https://localhost:8080/"
        },
        "id": "ALqXlJBUIFR9",
        "outputId": "33065b60-b02e-4de2-d6fa-cb1e2c71b61a"
      },
      "execution_count": 280,
      "outputs": [
        {
          "output_type": "execute_result",
          "data": {
            "text/plain": [
              "0.6032315978456014"
            ]
          },
          "metadata": {},
          "execution_count": 280
        }
      ]
    },
    {
      "cell_type": "code",
      "source": [
        "test_df.groupby('gen_sp').mean()['acc']"
      ],
      "metadata": {
        "colab": {
          "base_uri": "https://localhost:8080/"
        },
        "id": "OHwiQu31pyLP",
        "outputId": "ced511cb-73c6-40b7-9d67-997e30b79775"
      },
      "execution_count": 326,
      "outputs": [
        {
          "output_type": "execute_result",
          "data": {
            "text/plain": [
              "gen_sp\n",
              "Cichlocolaptes leucophrus      0.310345\n",
              "Drymophila ferruginea          0.088235\n",
              "Drymophila squamata            0.617647\n",
              "Megascops choliba              0.703704\n",
              "Merulaxis ater                 0.562500\n",
              "Myrmoderus squamosus           0.466667\n",
              "Patagioenas plumbea            0.960000\n",
              "Pyriglena leucoptera           0.827586\n",
              "Rhopias gularis                1.000000\n",
              "Saltator atricollis            0.869565\n",
              "Saltator fuliginosus           0.230769\n",
              "Synallaxis frontalis           0.967742\n",
              "Syndactyla rufosuperciliata    0.529412\n",
              "Todirostrum poliocephalum      0.000000\n",
              "Tolmomyias sulphurescens       0.928571\n",
              "Trogon rufus                   0.642857\n",
              "Turdus flavipes                0.615385\n",
              "Turdus leucomelas              0.976744\n",
              "Tyrannus melancholicus         0.000000\n",
              "Vireo chivi                    0.241379\n",
              "Name: acc, dtype: float64"
            ]
          },
          "metadata": {},
          "execution_count": 326
        }
      ]
    },
    {
      "cell_type": "code",
      "source": [],
      "metadata": {
        "id": "jz2ukeJir1wV"
      },
      "execution_count": null,
      "outputs": []
    }
  ]
}